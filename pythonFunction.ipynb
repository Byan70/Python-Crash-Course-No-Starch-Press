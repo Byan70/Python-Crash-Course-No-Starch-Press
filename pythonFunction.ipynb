{
 "cells": [
  {
   "cell_type": "markdown",
   "id": "55ff1d9e-5db4-4474-9aed-ce85c5bd7708",
   "metadata": {},
   "source": [
    "## **<center><u>Python Function</u></center>**\n",
    "**Function** - is named block of code designed to do one specific job.\n",
    "- some function are designed to display information while other are designed in order to process data and return value of set of values."
   ]
  },
  {
   "cell_type": "markdown",
   "id": "7ce220f0-1066-4b66-b06d-edb14cbee00c",
   "metadata": {},
   "source": [
    "## **Defining a function**"
   ]
  },
  {
   "cell_type": "code",
   "execution_count": 8,
   "id": "e1b4e9ba-700c-419c-adfd-bf3880975759",
   "metadata": {},
   "outputs": [
    {
     "name": "stdout",
     "output_type": "stream",
     "text": [
      "Hello!\n"
     ]
    }
   ],
   "source": [
    "def greet_user():\n",
    "    \"\"\"Display a simple greeting. \"\"\"\n",
    "    print(\"Hello!\")\n",
    "greet_user()"
   ]
  },
  {
   "cell_type": "markdown",
   "id": "faa7853e-0316-4fdb-ad93-c961cc80cc0f",
   "metadata": {},
   "source": [
    "## Passing Information to a Function"
   ]
  },
  {
   "cell_type": "code",
   "execution_count": 15,
   "id": "c7a6ae0b-bdf0-40b6-bbbc-df875d84660f",
   "metadata": {},
   "outputs": [
    {
     "name": "stdout",
     "output_type": "stream",
     "text": [
      "Hello, Jesse!\n",
      "Hello, Sarah!\n"
     ]
    }
   ],
   "source": [
    "def greet_user(username):\n",
    "    \"\"\"Display a simple greeting.\"\"\"\n",
    "    print(f\"Hello, {username.title()}!\")\n",
    "greet_user('jesse')\n",
    "greet_user('sarah')"
   ]
  },
  {
   "cell_type": "markdown",
   "id": "ffcd6abe-b822-48d1-a610-efb2d6060c62",
   "metadata": {},
   "source": [
    "**Parameter** is a piece of information the function needs to do its job.\n",
    "\n",
    "**Argument** is a piece of information that's passed from a function call to a function"
   ]
  },
  {
   "cell_type": "markdown",
   "id": "2e00ad6f-831b-4015-9735-2ad371ed41b6",
   "metadata": {},
   "source": [
    "## <center>**quiz**</center>\n",
    "\n",
    "### **8-1.Message:**"
   ]
  },
  {
   "cell_type": "code",
   "execution_count": 24,
   "id": "43aafb2b-ccd9-4549-bf43-a652f23592fc",
   "metadata": {},
   "outputs": [
    {
     "name": "stdout",
     "output_type": "stream",
     "text": [
      "This is python function\n"
     ]
    }
   ],
   "source": [
    "\"\"\"Write a function called display_message() that prints one sen-\n",
    "tence telling everyone what you are learning about in this chapter. Call the\n",
    "function, and make sure the message displays correctly.\"\"\"\n",
    "\n",
    "def display_message():\n",
    "    print(\"This is python function\")\n",
    "display_message()"
   ]
  },
  {
   "cell_type": "markdown",
   "id": "2c4d8a33-275b-4b8a-81ea-1f560693b616",
   "metadata": {},
   "source": [
    "### **8-2. Favorite Book:**\n",
    "Write a function called favorite_book() that accepts one\n",
    "parameter, title. The function should print a message, such as One of my\n",
    "favorite books is Alice in Wonderland. Call the function, making sure to\n",
    "include a book title as an argument in the function call."
   ]
  },
  {
   "cell_type": "code",
   "execution_count": 34,
   "id": "fe787a04-903b-4fa2-9ada-1baed6f221eb",
   "metadata": {},
   "outputs": [
    {
     "name": "stdout",
     "output_type": "stream",
     "text": [
      "One fo my favorite books is River And The Source\n"
     ]
    }
   ],
   "source": [
    "def favorite_book(title):\n",
    "    print(f\"One fo my favorite books is{title.title()}\")\n",
    "\n",
    "favorite_book(' river and the source')  \n",
    "    "
   ]
  },
  {
   "cell_type": "markdown",
   "id": "21898711-a01e-4d67-8187-cb5be75ddb2f",
   "metadata": {},
   "source": [
    "## **Argument**\n",
    "You can pass argument to your functions in a number of ways:\n",
    "\n",
    "1. *Positional argument* - which need to be in the same order the parameters were written.\n",
    "\n",
    "2. *keyword argument* - where each argument consist of a variable name and a value; and lists and dictionaries of values."
   ]
  },
  {
   "cell_type": "markdown",
   "id": "bd068203-f808-4944-9223-cbd46298482b",
   "metadata": {},
   "source": [
    "## **Positional Arguments**\n",
    "\n",
    "- When you call a function, Python must match each argument in function call with a parameter in the function defination."
   ]
  },
  {
   "cell_type": "code",
   "execution_count": 43,
   "id": "38a17260-3469-4df6-9ff8-d00bec2f0af9",
   "metadata": {},
   "outputs": [
    {
     "name": "stdout",
     "output_type": "stream",
     "text": [
      "\n",
      "I have a hamster.\n",
      "My hamster's name is Harry.\n"
     ]
    }
   ],
   "source": [
    "def describe_pet(animal_type, pet_name):\n",
    "    \"\"\"Display information about a pet\"\"\"\n",
    "    print(f\"\\nI have a {animal_type}.\")\n",
    "    print(f\"My {animal_type}'s name is {pet_name.title()}.\")\n",
    "describe_pet('hamster', 'harry')"
   ]
  },
  {
   "cell_type": "markdown",
   "id": "628e9e72-02eb-4fec-9c52-25b822a32451",
   "metadata": {},
   "source": [
    "## **Keyword Argument**\n",
    "\n",
    "- A *keyword argument* - is a a name-value pair that you pass to a function.\n",
    "\n",
    "- Keyword arguments free you from having to worry about correctly ordering your argument in a function call."
   ]
  },
  {
   "cell_type": "code",
   "execution_count": 48,
   "id": "550965ab-acac-4e25-9e9d-7db934e0d466",
   "metadata": {},
   "outputs": [
    {
     "name": "stdout",
     "output_type": "stream",
     "text": [
      "\n",
      "I have a hamster.\n",
      "My hamster's name is Harry.\n"
     ]
    }
   ],
   "source": [
    "def describe_pet(animal_type, pet_name):\n",
    "    \"\"\"Display information about a pet\"\"\"\n",
    "    print(f\"\\nI have a {animal_type}.\")\n",
    "    print(f\"My {animal_type}'s name is {pet_name.title()}.\")\n",
    "describe_pet(animal_type='hamster', pet_name='harry')"
   ]
  },
  {
   "cell_type": "markdown",
   "id": "0bef15ff-5855-473c-a974-a47846044aa8",
   "metadata": {},
   "source": [
    "## **Return Values\n",
    "\n",
    "- A function doesn't alsways have to display its output directly. Instead, it can process some data and then return a value of set of values.\n",
    "\n",
    "- The value the functionreturn is called a *return value*.\n",
    "\n",
    "- The return statement takes the value inside a functiona and sends it back to the lien that called the function"
   ]
  },
  {
   "cell_type": "code",
   "execution_count": 51,
   "id": "655be932-b377-4c48-921a-fb1045b6fc79",
   "metadata": {},
   "outputs": [
    {
     "name": "stdout",
     "output_type": "stream",
     "text": [
      "Jimi Hendrix\n"
     ]
    }
   ],
   "source": [
    "def get_formatted_name(first_name, last_name):\n",
    "    \"\"\"Return a full name, neatly formatted.\"\"\"\n",
    "    full_name = f\"{first_name} {last_name}\"\n",
    "    return full_name.title()\n",
    "\n",
    "musician = get_formatted_name('jimi', 'hendrix')\n",
    "print(musician)"
   ]
  },
  {
   "cell_type": "code",
   "execution_count": null,
   "id": "b552041b-2e51-40d1-9b68-8f39cee79914",
   "metadata": {},
   "outputs": [],
   "source": []
  }
 ],
 "metadata": {
  "kernelspec": {
   "display_name": "Python 3 (ipykernel)",
   "language": "python",
   "name": "python3"
  },
  "language_info": {
   "codemirror_mode": {
    "name": "ipython",
    "version": 3
   },
   "file_extension": ".py",
   "mimetype": "text/x-python",
   "name": "python",
   "nbconvert_exporter": "python",
   "pygments_lexer": "ipython3",
   "version": "3.11.7"
  }
 },
 "nbformat": 4,
 "nbformat_minor": 5
}
